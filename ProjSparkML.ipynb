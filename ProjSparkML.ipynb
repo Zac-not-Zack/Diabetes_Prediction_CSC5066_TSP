{
  "cells": [
    {
      "cell_type": "markdown",
      "metadata": {
        "id": "kvTU4bzzA935"
      },
      "source": [
        "# Projet Spark-ML : Prediction de diabète"
      ]
    },
    {
      "cell_type": "code",
      "execution_count": 84,
      "metadata": {
        "colab": {
          "base_uri": "https://localhost:8080/",
          "height": 644
        },
        "id": "KsrkhLQZJhBF",
        "outputId": "4640b6c5-da75-4420-deaf-52de50eef1b4"
      },
      "outputs": [
        {
          "output_type": "stream",
          "name": "stdout",
          "text": [
            "Hit:1 https://cloud.r-project.org/bin/linux/ubuntu jammy-cran40/ InRelease\n",
            "Hit:2 https://developer.download.nvidia.com/compute/cuda/repos/ubuntu2204/x86_64  InRelease\n",
            "Get:3 http://security.ubuntu.com/ubuntu jammy-security InRelease [129 kB]\n",
            "Hit:4 http://archive.ubuntu.com/ubuntu jammy InRelease\n",
            "Hit:5 https://r2u.stat.illinois.edu/ubuntu jammy InRelease\n",
            "Get:6 http://archive.ubuntu.com/ubuntu jammy-updates InRelease [128 kB]\n",
            "Hit:7 https://ppa.launchpadcontent.net/deadsnakes/ppa/ubuntu jammy InRelease\n",
            "Hit:8 https://ppa.launchpadcontent.net/graphics-drivers/ppa/ubuntu jammy InRelease\n",
            "Hit:9 https://ppa.launchpadcontent.net/ubuntugis/ppa/ubuntu jammy InRelease\n",
            "Hit:10 http://archive.ubuntu.com/ubuntu jammy-backports InRelease\n",
            "Get:11 http://security.ubuntu.com/ubuntu jammy-security/main amd64 Packages [2,454 kB]\n",
            "Get:12 http://archive.ubuntu.com/ubuntu jammy-updates/universe amd64 Packages [1,514 kB]\n",
            "Get:13 http://archive.ubuntu.com/ubuntu jammy-updates/restricted amd64 Packages [3,419 kB]\n",
            "Get:14 http://archive.ubuntu.com/ubuntu jammy-updates/multiverse amd64 Packages [53.3 kB]\n",
            "Get:15 http://archive.ubuntu.com/ubuntu jammy-updates/main amd64 Packages [2,738 kB]\n",
            "Fetched 10.4 MB in 5s (2,213 kB/s)\n",
            "Reading package lists... Done\n",
            "Building dependency tree... Done\n",
            "Reading state information... Done\n",
            "52 packages can be upgraded. Run 'apt list --upgradable' to see them.\n",
            "\u001b[1;33mW: \u001b[0mSkipping acquire of configured file 'main/source/Sources' as repository 'https://r2u.stat.illinois.edu/ubuntu jammy InRelease' does not seem to provide it (sources.list entry misspelt?)\u001b[0m\n",
            "Requirement already satisfied: pyspark in /usr/local/lib/python3.10/dist-packages (3.5.3)\n",
            "Requirement already satisfied: py4j==0.10.9.7 in /usr/local/lib/python3.10/dist-packages (from pyspark) (0.10.9.7)\n",
            "Requirement already satisfied: py4j in /usr/local/lib/python3.10/dist-packages (0.10.9.7)\n"
          ]
        },
        {
          "output_type": "execute_result",
          "data": {
            "text/plain": [
              "<pyspark.sql.session.SparkSession at 0x7d2da651da50>"
            ],
            "text/html": [
              "\n",
              "            <div>\n",
              "                <p><b>SparkSession - in-memory</b></p>\n",
              "                \n",
              "        <div>\n",
              "            <p><b>SparkContext</b></p>\n",
              "\n",
              "            <p><a href=\"http://279c5b142f74:4040\">Spark UI</a></p>\n",
              "\n",
              "            <dl>\n",
              "              <dt>Version</dt>\n",
              "                <dd><code>v3.5.3</code></dd>\n",
              "              <dt>Master</dt>\n",
              "                <dd><code>local[*]</code></dd>\n",
              "              <dt>AppName</dt>\n",
              "                <dd><code>Our First Spark Example</code></dd>\n",
              "            </dl>\n",
              "        </div>\n",
              "        \n",
              "            </div>\n",
              "        "
            ]
          },
          "metadata": {},
          "execution_count": 84
        }
      ],
      "source": [
        "!sudo apt update\n",
        "!apt-get install openjdk-8-jdk-headless -qq > /dev/null\n",
        "#Check this site for the latest download link https://www.apache.org/dyn/closer.lua/spark/spark-3.5.3/spark-3.5.3-bin-hadoop3.2.tgz\n",
        "!wget -q https://dlcdn.apache.org/spark/spark-3.5.3/spark-3.5.3-bin-hadoop3.tgz\n",
        "!tar xf spark-3.5.3-bin-hadoop3.tgz\n",
        "!pip install -q findspark\n",
        "!pip install pyspark\n",
        "!pip install py4j\n",
        "\n",
        "import os\n",
        "import sys\n",
        "# os.environ[\"JAVA_HOME\"] = \"/usr/lib/jvm/java-8-openjdk-amd64\"\n",
        "# os.environ[\"SPARK_HOME\"] = \"/content/spark-3.2.1-bin-hadoop3.2\"\n",
        "\n",
        "\n",
        "import findspark\n",
        "findspark.init()\n",
        "findspark.find()\n",
        "\n",
        "import pyspark\n",
        "\n",
        "from pyspark.sql import DataFrame, SparkSession\n",
        "from typing import List\n",
        "import pyspark.sql.types as T\n",
        "import pyspark.sql.functions as F\n",
        "\n",
        "spark= SparkSession \\\n",
        "       .builder \\\n",
        "       .appName(\"Our First Spark Example\") \\\n",
        "       .getOrCreate()\n",
        "\n",
        "spark"
      ]
    },
    {
      "cell_type": "code",
      "execution_count": 85,
      "metadata": {
        "colab": {
          "base_uri": "https://localhost:8080/"
        },
        "id": "IqelliVPJ9R0",
        "outputId": "71af5753-b291-4531-ccd4-ce03a266d03f"
      },
      "outputs": [
        {
          "output_type": "stream",
          "name": "stdout",
          "text": [
            "Drive already mounted at /content/drive; to attempt to forcibly remount, call drive.mount(\"/content/drive\", force_remount=True).\n"
          ]
        }
      ],
      "source": [
        "from google.colab import drive\n",
        "drive.mount('/content/drive')"
      ]
    },
    {
      "cell_type": "markdown",
      "metadata": {
        "id": "G528dwj21lMR"
      },
      "source": [
        "Diabetes Health Indicators dataset is available on [Kaggle](https://www.kaggle.com/datasets/alexteboul/diabetes-health-indicators-dataset). The data is collected annually via The Behavioral Risk Factor Surveillance System (BRFSS), conducted by the CDC. Specifically, this dataset is consisted of responses from 253,680 Americans in 2015 on health-related risk behaviors, chronic health conditions, and the use of preventative services. Various attributes in this dataset are used to predict diabetes based on various factors such as the presence of other diseases, BMI, physical activities and others.\n",
        "\n",
        "Attribute information :\n",
        "\n",
        "*   HighBP : no high BP, high BP\n",
        "*   HighChol : no high cholesterol,high cholesterol\n",
        "*   CholCheck : no cholesterol check in 5 years, cholesterol check in 5 years\n",
        "*   BMI : continuous\n",
        "*   Smoker : no, yes\n",
        "*   Stroke : no, yes\n",
        "*   HeartDiseaseorAttack :  no, yes\n",
        "*   PhysActivity : no, yes\n",
        "*   Fruits : no, yes\n",
        "*   Veggies : no, yes\n",
        "*   HvyAlcoholConsum : no, yes\n",
        "*   AnyHealthcare : no, yes\n",
        "*   NoDocbcCost : no, yes\n",
        "*   GenHlth : excellent, very good, good, fair, poor\n",
        "*   MentHlth : continuous\n",
        "*   PhysHlth : continuous\n",
        "*   DiffWalk : no, yes\n",
        "*   Sex : female, male\n",
        "*   Age : 18-24, 25-29, 30-34, 35-39, 40-44, 45-49, 50-54, 55-59, 60-64, 65-69, 70-74, 75-79, 80 or older\n",
        "*   Education : Never attended school or only kindergarten, Elementary, Some high school, High school graduate, Some college or technical school, College graduate\n",
        "*   Income : Less than 10,000, Less than 15,000, Less than 20,000, Less than 25,000, Less than 35,000, Less than 50,000 , Less than 75,000, 75,000 or more\n",
        "\n",
        "Target/Label : Diabetes_012 : no diabetes, prediabetes, diabetes\n",
        "\n",
        "\n",
        "\n",
        "\n",
        "\n",
        "\n"
      ]
    },
    {
      "cell_type": "code",
      "execution_count": 86,
      "metadata": {
        "id": "z1DwuR7K3JFv"
      },
      "outputs": [],
      "source": [
        "from pyspark.sql.types import DoubleType, StringType, StructField, StructType\n",
        "\n",
        "#chargement du dataset\n",
        "\n",
        "dataset = spark.read.csv(\"/content/drive/MyDrive/datasets/diabetes_health_indicators.csv\",header=True)\n"
      ]
    },
    {
      "cell_type": "markdown",
      "metadata": {
        "id": "t1UKb9urSFOy"
      },
      "source": [
        "## Data Analysis & Preprocessing"
      ]
    },
    {
      "cell_type": "code",
      "execution_count": 87,
      "metadata": {
        "colab": {
          "base_uri": "https://localhost:8080/"
        },
        "id": "PDwZZMsLDWdc",
        "outputId": "d2466687-edbc-4e85-bc53-fe345b8c31a1"
      },
      "outputs": [
        {
          "output_type": "stream",
          "name": "stdout",
          "text": [
            "+------------+----------+-------------------+--------------------+----+------+------+--------------------+------------+------+-------+-----------------+-------------+-----------+---------+--------+--------+--------+------+-----------+--------------------+-----------------+\n",
            "|Diabetes_012|    HighBP|           HighChol|           CholCheck| BMI|Smoker|Stroke|HeartDiseaseorAttack|PhysActivity|Fruits|Veggies|HvyAlcoholConsump|AnyHealthcare|NoDocbcCost|  GenHlth|MentHlth|PhysHlth|DiffWalk|   Sex|        Age|           Education|           Income|\n",
            "+------------+----------+-------------------+--------------------+----+------+------+--------------------+------------+------+-------+-----------------+-------------+-----------+---------+--------+--------+--------+------+-----------+--------------------+-----------------+\n",
            "| no diabetes|   high BP|   high cholesterol|yes cholesterol c...|40.0|   yes|    no|                  no|          no|    no|    yes|              0.0|          yes|         no|     poor|    18.0|    15.0|     yes|female|      60-64|High school graduate|Less than $20,000|\n",
            "| no diabetes|no high BP|no high cholesterol|no cholesterol ch...|25.0|   yes|    no|                  no|         yes|    no|     no|              0.0|           no|        yes|     good|     0.0|     0.0|      no|female|      50-54|    College graduate|Less than $10,000|\n",
            "| no diabetes|   high BP|   high cholesterol|yes cholesterol c...|28.0|    no|    no|                  no|          no|   yes|     no|              0.0|          yes|        yes|     poor|    30.0|    30.0|     yes|female|      60-64|High school graduate|  $75,000 or more|\n",
            "| no diabetes|   high BP|no high cholesterol|yes cholesterol c...|27.0|    no|    no|                  no|         yes|   yes|    yes|              0.0|          yes|         no|very good|     0.0|     0.0|      no|female|      70-74|    Some high school|Less than $50,000|\n",
            "| no diabetes|   high BP|   high cholesterol|yes cholesterol c...|24.0|    no|    no|                  no|         yes|   yes|    yes|              0.0|          yes|         no|very good|     3.0|     0.0|      no|female|      70-74|Some college or t...|Less than $25,000|\n",
            "| no diabetes|   high BP|   high cholesterol|yes cholesterol c...|25.0|   yes|    no|                  no|         yes|   yes|    yes|              0.0|          yes|         no|very good|     0.0|     2.0|      no|  male|      65-69|    College graduate|  $75,000 or more|\n",
            "| no diabetes|   high BP|no high cholesterol|yes cholesterol c...|30.0|   yes|    no|                  no|          no|    no|     no|              0.0|          yes|         no|     good|     0.0|    14.0|      no|female|      60-64|    College graduate|Less than $75,000|\n",
            "| no diabetes|   high BP|   high cholesterol|yes cholesterol c...|25.0|   yes|    no|                  no|         yes|    no|    yes|              0.0|          yes|         no|     good|     0.0|     0.0|     yes|female|      70-74|High school graduate|Less than $25,000|\n",
            "|    diabetes|   high BP|   high cholesterol|yes cholesterol c...|30.0|   yes|    no|                 yes|          no|   yes|    yes|              0.0|          yes|         no|     poor|    30.0|    30.0|     yes|female|      60-64|Some college or t...|Less than $10,000|\n",
            "| no diabetes|no high BP|no high cholesterol|yes cholesterol c...|24.0|    no|    no|                  no|          no|    no|    yes|              0.0|          yes|         no|very good|     0.0|     0.0|      no|  male|      55-59|High school graduate|Less than $20,000|\n",
            "|    diabetes|no high BP|no high cholesterol|yes cholesterol c...|25.0|   yes|    no|                  no|         yes|   yes|    yes|              0.0|          yes|         no|     good|     0.0|     0.0|      no|  male|80 or older|    College graduate|  $75,000 or more|\n",
            "| no diabetes|   high BP|   high cholesterol|yes cholesterol c...|34.0|   yes|    no|                  no|          no|   yes|    yes|              0.0|          yes|         no|     good|     0.0|    30.0|     yes|female|      65-69|Some college or t...|Less than $10,000|\n",
            "| no diabetes|no high BP|no high cholesterol|yes cholesterol c...|26.0|   yes|    no|                  no|          no|    no|    yes|              0.0|          yes|         no|     good|     0.0|    15.0|      no|female|      50-54|Some college or t...|Less than $75,000|\n",
            "|    diabetes|   high BP|   high cholesterol|yes cholesterol c...|28.0|    no|    no|                  no|          no|    no|    yes|              0.0|          yes|         no|     fair|     0.0|     0.0|     yes|female|      70-74|High school graduate|Less than $50,000|\n",
            "| no diabetes|no high BP|   high cholesterol|yes cholesterol c...|33.0|   yes|   yes|                  no|         yes|    no|    yes|              0.0|          yes|        yes|     fair|    30.0|    28.0|      no|female|      35-39|    College graduate|Less than $15,000|\n",
            "| no diabetes|   high BP|no high cholesterol|yes cholesterol c...|33.0|    no|    no|                  no|         yes|    no|     no|              0.0|          yes|         no|very good|     5.0|     0.0|      no|female|      45-49|    College graduate|  $75,000 or more|\n",
            "| no diabetes|   high BP|   high cholesterol|yes cholesterol c...|21.0|    no|    no|                  no|         yes|   yes|    yes|              0.0|          yes|         no|     good|     0.0|     0.0|      no|female|      65-69|High school graduate|Less than $20,000|\n",
            "|    diabetes|no high BP|no high cholesterol|yes cholesterol c...|23.0|   yes|    no|                  no|         yes|    no|     no|              0.0|          yes|         no|very good|     0.0|     0.0|      no|  male|      50-54|Some college or t...|Less than $50,000|\n",
            "| no diabetes|no high BP|no high cholesterol|no cholesterol ch...|23.0|    no|    no|                  no|          no|    no|    yes|              0.0|          yes|         no|very good|    15.0|     0.0|      no|female|      25-29|    College graduate|Less than $75,000|\n",
            "| no diabetes|no high BP|   high cholesterol|yes cholesterol c...|28.0|    no|    no|                  no|          no|    no|     no|              1.0|          yes|         no|very good|    10.0|     0.0|      no|  male|      35-39|    College graduate|  $75,000 or more|\n",
            "+------------+----------+-------------------+--------------------+----+------+------+--------------------+------------+------+-------+-----------------+-------------+-----------+---------+--------+--------+--------+------+-----------+--------------------+-----------------+\n",
            "only showing top 20 rows\n",
            "\n"
          ]
        }
      ],
      "source": [
        "dataset.show()"
      ]
    },
    {
      "cell_type": "code",
      "execution_count": 88,
      "metadata": {
        "colab": {
          "base_uri": "https://localhost:8080/"
        },
        "id": "NzGa9TF0RlEJ",
        "outputId": "38402184-545f-48a4-ca70-3f48e8a0be3c"
      },
      "outputs": [
        {
          "output_type": "stream",
          "name": "stdout",
          "text": [
            "root\n",
            " |-- Diabetes_012: string (nullable = true)\n",
            " |-- HighBP: string (nullable = true)\n",
            " |-- HighChol: string (nullable = true)\n",
            " |-- CholCheck: string (nullable = true)\n",
            " |-- BMI: string (nullable = true)\n",
            " |-- Smoker: string (nullable = true)\n",
            " |-- Stroke: string (nullable = true)\n",
            " |-- HeartDiseaseorAttack: string (nullable = true)\n",
            " |-- PhysActivity: string (nullable = true)\n",
            " |-- Fruits: string (nullable = true)\n",
            " |-- Veggies: string (nullable = true)\n",
            " |-- HvyAlcoholConsump: string (nullable = true)\n",
            " |-- AnyHealthcare: string (nullable = true)\n",
            " |-- NoDocbcCost: string (nullable = true)\n",
            " |-- GenHlth: string (nullable = true)\n",
            " |-- MentHlth: string (nullable = true)\n",
            " |-- PhysHlth: string (nullable = true)\n",
            " |-- DiffWalk: string (nullable = true)\n",
            " |-- Sex: string (nullable = true)\n",
            " |-- Age: string (nullable = true)\n",
            " |-- Education: string (nullable = true)\n",
            " |-- Income: string (nullable = true)\n",
            "\n",
            "root\n",
            " |-- Diabetes_012: string (nullable = true)\n",
            " |-- HighBP: string (nullable = true)\n",
            " |-- HighChol: string (nullable = true)\n",
            " |-- CholCheck: string (nullable = true)\n",
            " |-- BMI: float (nullable = true)\n",
            " |-- Smoker: string (nullable = true)\n",
            " |-- Stroke: string (nullable = true)\n",
            " |-- HeartDiseaseorAttack: string (nullable = true)\n",
            " |-- PhysActivity: string (nullable = true)\n",
            " |-- Fruits: string (nullable = true)\n",
            " |-- Veggies: string (nullable = true)\n",
            " |-- HvyAlcoholConsump: float (nullable = true)\n",
            " |-- AnyHealthcare: string (nullable = true)\n",
            " |-- NoDocbcCost: string (nullable = true)\n",
            " |-- GenHlth: string (nullable = true)\n",
            " |-- MentHlth: string (nullable = true)\n",
            " |-- PhysHlth: float (nullable = true)\n",
            " |-- DiffWalk: string (nullable = true)\n",
            " |-- Sex: string (nullable = true)\n",
            " |-- Age: string (nullable = true)\n",
            " |-- Education: string (nullable = true)\n",
            " |-- Income: string (nullable = true)\n",
            "\n"
          ]
        }
      ],
      "source": [
        "from pyspark.ml import Pipeline\n",
        "from pyspark.ml.feature import StringIndexer, VectorAssembler, OneHotEncoder, StandardScaler\n",
        "from pyspark.ml.classification import LogisticRegression, DecisionTreeClassifier, RandomForestClassifier\n",
        "from pyspark.ml.evaluation import MulticlassClassificationEvaluator\n",
        "from pyspark.ml.tuning import CrossValidator, ParamGridBuilder\n",
        "from pyspark.sql.functions import col\n",
        "\n",
        "#changement du type des colonnes en float\n",
        "\n",
        "dataset.printSchema()\n",
        "dataset = dataset.withColumn(\"BMI\", col(\"BMI\").cast(\"float\"))\n",
        "dataset = dataset.withColumn(\"HvyAlcoholConsump\", col(\"HvyAlcoholConsump\").cast(\"float\"))\n",
        "dataset = dataset.withColumn(\"PhysHlth\", col(\"PhysHlth\").cast(\"float\"))\n",
        "dataset.printSchema()\n",
        "#for col_name in categoricalColumns:\n",
        " #   unique_values_count = dataset.select(col_name).distinct().count()\n",
        "  #  print(f\"Unique values count for '{col_name}': {unique_values_count}\")"
      ]
    },
    {
      "cell_type": "code",
      "execution_count": 89,
      "metadata": {
        "colab": {
          "base_uri": "https://localhost:8080/"
        },
        "id": "WmG1zqyc6Jqn",
        "outputId": "5c3d7506-95b9-46ee-9123-79f8aa0c9d8f"
      },
      "outputs": [
        {
          "output_type": "stream",
          "name": "stdout",
          "text": [
            "+------------+------+\n",
            "|Diabetes_012| count|\n",
            "+------------+------+\n",
            "| prediabetes|  4631|\n",
            "|    diabetes| 35346|\n",
            "| no diabetes|213703|\n",
            "+------------+------+\n",
            "\n"
          ]
        }
      ],
      "source": [
        "#pour voir la distribution du label\n",
        "\n",
        "dataset.groupBy(\"Diabetes_012\").count().show()"
      ]
    },
    {
      "cell_type": "code",
      "execution_count": 90,
      "metadata": {
        "colab": {
          "base_uri": "https://localhost:8080/",
          "height": 564
        },
        "id": "8CSf9RY-Yvub",
        "outputId": "2c92e170-c6a8-408d-aa3d-ee2e25cfe1b1"
      },
      "outputs": [
        {
          "output_type": "display_data",
          "data": {
            "text/plain": [
              "<Figure size 800x600 with 1 Axes>"
            ],
            "image/png": "[encoded data removed]"
          },
          "metadata": {}
        }
      ],
      "source": [
        "#affichage de la distribution du label\n",
        "\n",
        "import matplotlib.pyplot as plt\n",
        "import seaborn as sns\n",
        "\n",
        "diabetes_counts = dataset.groupBy(\"Diabetes_012\").count().toPandas()\n",
        "\n",
        "plt.figure(figsize=(8,6))\n",
        "sns.barplot(x=\"Diabetes_012\", y=\"count\", data=diabetes_counts)\n",
        "plt.title(\"Distribution of Diabetes Categories\")\n",
        "plt.xlabel(\"Diabetes Category (0: No Diabetes, 1: Prediabetes, 2: Diabetes)\")\n",
        "plt.ylabel(\"Count\")\n",
        "plt.show()"
      ]
    },
    {
      "cell_type": "code",
      "execution_count": 91,
      "metadata": {
        "colab": {
          "base_uri": "https://localhost:8080/",
          "height": 564
        },
        "id": "ho7kk8KbaEMe",
        "outputId": "76efbffa-496e-4a04-fb86-89136ddfbb2c"
      },
      "outputs": [
        {
          "output_type": "display_data",
          "data": {
            "text/plain": [
              "<Figure size 800x600 with 1 Axes>"
            ],
            "image/png": "[encoded data removed]"
          },
          "metadata": {}
        }
      ],
      "source": [
        "#calcul et affichage de BMI selon des labels\n",
        "\n",
        "diabetes_bmi = dataset.select(\"BMI\", \"Diabetes_012\").toPandas()\n",
        "\n",
        "bmi_avg = diabetes_bmi.groupby(\"Diabetes_012\")[\"BMI\"].mean().reset_index()\n",
        "\n",
        "plt.figure(figsize=(8, 6))\n",
        "plt.plot(bmi_avg[\"Diabetes_012\"], bmi_avg[\"BMI\"], marker=\"o\", linestyle=\"-\", color=\"blue\", label=\"Average BMI\")\n",
        "plt.title(\"Average BMI by Diabetes Category\")\n",
        "plt.xlabel(\"Diabetes Categories\")\n",
        "plt.ylabel(\"Average BMI\")\n",
        "plt.legend()\n",
        "plt.grid(True)\n",
        "plt.show()\n"
      ]
    },
    {
      "cell_type": "code",
      "execution_count": 92,
      "metadata": {
        "colab": {
          "base_uri": "https://localhost:8080/"
        },
        "id": "tLgds2IOxnZx",
        "outputId": "0887bf35-35cb-4933-84eb-f01f013e5479"
      },
      "outputs": [
        {
          "output_type": "stream",
          "name": "stdout",
          "text": [
            "HighChol Diabetes_012  high cholesterol  no high cholesterol\n",
            "0            diabetes             23686                11660\n",
            "1         no diabetes             81030               132673\n",
            "2         prediabetes              2875                 1756\n"
          ]
        }
      ],
      "source": [
        "#analyse de la correlation entre diabète et cholestérol\n",
        "\n",
        "diabetes_highchol = dataset.select(\"Diabetes_012\", \"HighChol\").toPandas()\n",
        "\n",
        "highchol_counts = diabetes_highchol.groupby(\"Diabetes_012\")[\"HighChol\"].value_counts().unstack(fill_value=0).reset_index()\n",
        "#unstack => pour créer nouvelle colonne\n",
        "\n",
        "print(highchol_counts)\n"
      ]
    },
    {
      "cell_type": "code",
      "execution_count": 93,
      "metadata": {
        "colab": {
          "base_uri": "https://localhost:8080/",
          "height": 489
        },
        "id": "TR_22PqU0725",
        "outputId": "b83fb313-e47a-4d9d-e5cb-021d9ac2be56"
      },
      "outputs": [
        {
          "output_type": "display_data",
          "data": {
            "text/plain": [
              "<Figure size 800x600 with 0 Axes>"
            ]
          },
          "metadata": {}
        },
        {
          "output_type": "display_data",
          "data": {
            "text/plain": [
              "<Figure size 640x480 with 1 Axes>"
            ],
            "image/png": "[encoded data removed]"
          },
          "metadata": {}
        }
      ],
      "source": [
        "#affichage du résultat\n",
        "\n",
        "plt.figure(figsize=(8, 6))\n",
        "\n",
        "highchol_counts.set_index('Diabetes_012')[['no high cholesterol', 'high cholesterol']].plot(kind='bar', color=['green', 'red'], width=0.8)\n",
        "\n",
        "plt.title(\"High Cholesterol Count by Diabetes Category\")\n",
        "plt.xlabel(\"Diabetes Category (0: No Diabetes, 1: Prediabetes, 2: Diabetes)\")\n",
        "plt.ylabel(\"Count of High Cholesterol (HighChol) Responses\")\n",
        "plt.xticks([0, 1, 2], ['Diabetes', 'No Diabetes', 'Prediabetes'], rotation=0)  # Custom x-ticks and no rotation\n",
        "\n",
        "plt.legend(title=\"High Cholesterol\", loc=\"upper left\")\n",
        "plt.grid(True)\n",
        "plt.show()\n"
      ]
    },
    {
      "cell_type": "code",
      "execution_count": 94,
      "metadata": {
        "colab": {
          "base_uri": "https://localhost:8080/"
        },
        "id": "rYgpnlvk3FQa",
        "outputId": "ace855ea-e48e-4c83-93a9-add126f47ffb"
      },
      "outputs": [
        {
          "output_type": "stream",
          "name": "stdout",
          "text": [
            "HighBP Diabetes_012  high BP  no high BP\n",
            "0          diabetes    26604        8742\n",
            "1       no diabetes    79312      134391\n",
            "2       prediabetes     2913        1718\n"
          ]
        }
      ],
      "source": [
        "#analyse de la correlation entre diabète et hypertension\n",
        "\n",
        "diabetes_highBP = dataset.select(\"Diabetes_012\", \"HighBP\").toPandas()\n",
        "\n",
        "#unstack => pour créer nouvelle colonne\n",
        "highBP_counts = diabetes_highBP.groupby(\"Diabetes_012\")[\"HighBP\"].value_counts().unstack(fill_value=0).reset_index()\n",
        "\n",
        "print(highBP_counts)"
      ]
    },
    {
      "cell_type": "code",
      "execution_count": 95,
      "metadata": {
        "colab": {
          "base_uri": "https://localhost:8080/",
          "height": 489
        },
        "id": "ree-9u7U3Tfv",
        "outputId": "908fd9d3-d751-454a-a178-fef93eb01a3e"
      },
      "outputs": [
        {
          "output_type": "display_data",
          "data": {
            "text/plain": [
              "<Figure size 800x600 with 0 Axes>"
            ]
          },
          "metadata": {}
        },
        {
          "output_type": "display_data",
          "data": {
            "text/plain": [
              "<Figure size 640x480 with 1 Axes>"
            ],
            "image/png": "[encoded data removed]"
          },
          "metadata": {}
        }
      ],
      "source": [
        "#affichage du résultat\n",
        "\n",
        "plt.figure(figsize=(8, 6))\n",
        "\n",
        "highBP_counts.set_index('Diabetes_012')[['no high BP', 'high BP']].plot(kind='bar', color=['green', 'red'], width=0.8)\n",
        "\n",
        "plt.title(\"High BP Count by Diabetes Category\")\n",
        "plt.xlabel(\"Diabetes Category (0: No Diabetes, 1: Prediabetes, 2: Diabetes)\")\n",
        "plt.ylabel(\"Count of High BP (HighBP) Responses\")\n",
        "plt.xticks([0, 1, 2], ['Diabetes', 'No Diabetes', 'Prediabetes'], rotation=0)  # Custom x-ticks and no rotation\n",
        "\n",
        "plt.legend(title=\"High BP\", loc=\"upper left\")\n",
        "plt.grid(True)\n",
        "plt.show()"
      ]
    },
    {
      "cell_type": "code",
      "execution_count": 96,
      "metadata": {
        "colab": {
          "base_uri": "https://localhost:8080/"
        },
        "id": "LX9dovWQ5TLU",
        "outputId": "f1fd792d-98d9-4c5a-d0c8-2c204262342b"
      },
      "outputs": [
        {
          "output_type": "stream",
          "name": "stdout",
          "text": [
            "AnyHealthcare Diabetes_012     no     yes\n",
            "0                 diabetes   1422   33924\n",
            "1              no diabetes  10741  202962\n",
            "2              prediabetes    254    4377\n"
          ]
        }
      ],
      "source": [
        "#analyse de la correlation entre diabète et l'accès aux soins\n",
        "\n",
        "diabetes_AnyHealthcare = dataset.select(\"Diabetes_012\", \"AnyHealthcare\").toPandas()\n",
        "\n",
        "AnyHealthcare_counts = diabetes_AnyHealthcare.groupby(\"Diabetes_012\")[\"AnyHealthcare\"].value_counts().unstack(fill_value=0).reset_index()\n",
        "\n",
        "print(AnyHealthcare_counts)"
      ]
    },
    {
      "cell_type": "code",
      "execution_count": 97,
      "metadata": {
        "colab": {
          "base_uri": "https://localhost:8080/"
        },
        "id": "44TlKbsx58qe",
        "outputId": "0daf37ce-e954-4ebb-c86d-33f6aeaf5d02"
      },
      "outputs": [
        {
          "output_type": "stream",
          "name": "stdout",
          "text": [
            "PhysActivity Diabetes_012     no     yes\n",
            "0                diabetes  13059   22287\n",
            "1             no diabetes  47212  166491\n",
            "2             prediabetes   1489    3142\n"
          ]
        }
      ],
      "source": [
        "#analyse de la correlation entre diabète et activité physique\n",
        "\n",
        "diabetes_PhysActivity = dataset.select(\"Diabetes_012\", \"PhysActivity\").toPandas()\n",
        "\n",
        "PhysActivity_counts = diabetes_PhysActivity.groupby(\"Diabetes_012\")[\"PhysActivity\"].value_counts().unstack(fill_value=0).reset_index()\n",
        "\n",
        "print(PhysActivity_counts)"
      ]
    },
    {
      "cell_type": "code",
      "execution_count": 98,
      "metadata": {
        "colab": {
          "base_uri": "https://localhost:8080/"
        },
        "id": "dQqYQEu6LeHg",
        "outputId": "1866cc7c-61fa-4224-a9bb-ec2821b321a9"
      },
      "outputs": [
        {
          "output_type": "stream",
          "name": "stdout",
          "text": [
            "+------------+----------+-------------------+----+------+------+--------------------+------+-------+-----------------+---------+--------+------+-----------+\n",
            "|Diabetes_012|    HighBP|           HighChol| BMI|Smoker|Stroke|HeartDiseaseorAttack|Fruits|Veggies|HvyAlcoholConsump|  GenHlth|PhysHlth|   Sex|        Age|\n",
            "+------------+----------+-------------------+----+------+------+--------------------+------+-------+-----------------+---------+--------+------+-----------+\n",
            "| no diabetes|   high BP|   high cholesterol|40.0|   yes|    no|                  no|    no|    yes|              0.0|     poor|    15.0|female|      60-64|\n",
            "| no diabetes|no high BP|no high cholesterol|25.0|   yes|    no|                  no|    no|     no|              0.0|     good|     0.0|female|      50-54|\n",
            "| no diabetes|   high BP|   high cholesterol|28.0|    no|    no|                  no|   yes|     no|              0.0|     poor|    30.0|female|      60-64|\n",
            "| no diabetes|   high BP|no high cholesterol|27.0|    no|    no|                  no|   yes|    yes|              0.0|very good|     0.0|female|      70-74|\n",
            "| no diabetes|   high BP|   high cholesterol|24.0|    no|    no|                  no|   yes|    yes|              0.0|very good|     0.0|female|      70-74|\n",
            "| no diabetes|   high BP|   high cholesterol|25.0|   yes|    no|                  no|   yes|    yes|              0.0|very good|     2.0|  male|      65-69|\n",
            "| no diabetes|   high BP|no high cholesterol|30.0|   yes|    no|                  no|    no|     no|              0.0|     good|    14.0|female|      60-64|\n",
            "| no diabetes|   high BP|   high cholesterol|25.0|   yes|    no|                  no|    no|    yes|              0.0|     good|     0.0|female|      70-74|\n",
            "|    diabetes|   high BP|   high cholesterol|30.0|   yes|    no|                 yes|   yes|    yes|              0.0|     poor|    30.0|female|      60-64|\n",
            "| no diabetes|no high BP|no high cholesterol|24.0|    no|    no|                  no|    no|    yes|              0.0|very good|     0.0|  male|      55-59|\n",
            "|    diabetes|no high BP|no high cholesterol|25.0|   yes|    no|                  no|   yes|    yes|              0.0|     good|     0.0|  male|80 or older|\n",
            "| no diabetes|   high BP|   high cholesterol|34.0|   yes|    no|                  no|   yes|    yes|              0.0|     good|    30.0|female|      65-69|\n",
            "| no diabetes|no high BP|no high cholesterol|26.0|   yes|    no|                  no|    no|    yes|              0.0|     good|    15.0|female|      50-54|\n",
            "|    diabetes|   high BP|   high cholesterol|28.0|    no|    no|                  no|    no|    yes|              0.0|     fair|     0.0|female|      70-74|\n",
            "| no diabetes|no high BP|   high cholesterol|33.0|   yes|   yes|                  no|    no|    yes|              0.0|     fair|    28.0|female|      35-39|\n",
            "| no diabetes|   high BP|no high cholesterol|33.0|    no|    no|                  no|    no|     no|              0.0|very good|     0.0|female|      45-49|\n",
            "| no diabetes|   high BP|   high cholesterol|21.0|    no|    no|                  no|   yes|    yes|              0.0|     good|     0.0|female|      65-69|\n",
            "|    diabetes|no high BP|no high cholesterol|23.0|   yes|    no|                  no|    no|     no|              0.0|very good|     0.0|  male|      50-54|\n",
            "| no diabetes|no high BP|no high cholesterol|23.0|    no|    no|                  no|    no|    yes|              0.0|very good|     0.0|female|      25-29|\n",
            "| no diabetes|no high BP|   high cholesterol|28.0|    no|    no|                  no|    no|     no|              1.0|very good|     0.0|  male|      35-39|\n",
            "+------------+----------+-------------------+----+------+------+--------------------+------+-------+-----------------+---------+--------+------+-----------+\n",
            "only showing top 20 rows\n",
            "\n"
          ]
        }
      ],
      "source": [
        "#supression des colonnes non-importants\n",
        "\n",
        "dataset = dataset.drop(\"Education\",\"CholCheck\",\"AnyHealthcare\",\"NoDocbcCost\",\"MentHlth\",\"DiffWalk\",\"Income\",\"PhysActivity\")\n",
        "dataset.show()\n",
        "\n",
        "#définition des colonnes catégoriques et numériques\n",
        "\n",
        "continuousColumns = [\"BMI\", \"HvyAlcoholConsump\", \"PhysHlth\"]\n",
        "categoricalColumns = [\"HighBP\",\"HighChol\",\"Smoker\",\"Stroke\",\"HeartDiseaseorAttack\",\"Fruits\",\"Veggies\",\"GenHlth\",\"Sex\",\"Age\"]\n",
        "cols = dataset.columns"
      ]
    },
    {
      "cell_type": "markdown",
      "metadata": {
        "id": "lOXVqKwZGVCm"
      },
      "source": [
        "## Categorical Data Encoding"
      ]
    },
    {
      "cell_type": "code",
      "execution_count": 99,
      "metadata": {
        "id": "owtL-_x7GCT8"
      },
      "outputs": [],
      "source": [
        "#définition du pipeline avec traitements partie catégorique\n",
        "\n",
        "stages = []\n",
        "for categoricalCol in categoricalColumns:\n",
        "    # Category Indexing with StringIndexer\n",
        "    stringIndexer = StringIndexer(inputCol=categoricalCol, outputCol=categoricalCol + \"Index\")\n",
        "    # Use OneHotEncoder to convert categorical variables into binary SparseVectors\n",
        "    from pyspark.ml.feature import OneHotEncoder\n",
        "    encoder = OneHotEncoder(inputCol=categoricalCol + \"Index\", outputCol=categoricalCol + \"classVec\")\n",
        "    # Add stages.  These are not run here, but will run all at once later on.\n",
        "    stages += [stringIndexer, encoder]\n",
        "\n",
        "label_stringIdx = StringIndexer(inputCol=\"Diabetes_012\", outputCol=\"label\")\n",
        "stages += [label_stringIdx]\n",
        "\n"
      ]
    },
    {
      "cell_type": "markdown",
      "metadata": {
        "id": "nqkF0ezqJXXv"
      },
      "source": [
        "## Numerical Data Scaling"
      ]
    },
    {
      "cell_type": "code",
      "execution_count": 100,
      "metadata": {
        "id": "22IEeRv-JWc4"
      },
      "outputs": [],
      "source": [
        "numerical_vector_assembler = VectorAssembler(inputCols=continuousColumns,outputCol='numerical_feature_vector')\n",
        "\n",
        "scaler = StandardScaler(inputCol='numerical_feature_vector',outputCol='scaled_numerical_feature_vector',withStd=True, withMean=True)\n",
        "\n",
        "stages += [numerical_vector_assembler, scaler]"
      ]
    },
    {
      "cell_type": "code",
      "execution_count": 101,
      "metadata": {
        "colab": {
          "base_uri": "https://localhost:8080/"
        },
        "id": "fOvSX0sJKb3h",
        "outputId": "a1722308-81aa-4b84-a9c8-ad313238355f"
      },
      "outputs": [
        {
          "output_type": "stream",
          "name": "stdout",
          "text": [
            "[StringIndexer_3dc230b2a117, OneHotEncoder_9315435e9835, StringIndexer_f878f651cb23, OneHotEncoder_6a596291216b, StringIndexer_9a84adbda66e, OneHotEncoder_d076256ad643, StringIndexer_bff928990327, OneHotEncoder_b2b98fc7c5e8, StringIndexer_fd9c13e9188c, OneHotEncoder_0e6fb9e94695, StringIndexer_aee42ff2ebca, OneHotEncoder_acd20bd487f7, StringIndexer_a0321d64fad6, OneHotEncoder_51634fb88858, StringIndexer_ecb32fc1d53f, OneHotEncoder_ff610693c6dd, StringIndexer_f5cda12037cd, OneHotEncoder_dd7da83a3aca, StringIndexer_0b6b47a46a08, OneHotEncoder_954d977e4f2d, StringIndexer_ce2d0b2e60dd, VectorAssembler_852bcb0223c4, StandardScaler_2825c398939a, VectorAssembler_17ffde302c9a]\n"
          ]
        }
      ],
      "source": [
        "assemblerInputs = [c + \"classVec\" for c in categoricalColumns]\n",
        "assembler = VectorAssembler(inputCols=assemblerInputs + ['scaled_numerical_feature_vector'], outputCol=\"features\")\n",
        "stages += [assembler]\n",
        "print(stages)"
      ]
    },
    {
      "cell_type": "code",
      "execution_count": 102,
      "metadata": {
        "id": "5nritZrWNE9f"
      },
      "outputs": [],
      "source": [
        "partialPipeline = Pipeline().setStages(stages)\n",
        "pipelineModel = partialPipeline.fit(dataset)\n",
        "preppedDataDF = pipelineModel.transform(dataset)"
      ]
    },
    {
      "cell_type": "code",
      "execution_count": 103,
      "metadata": {
        "colab": {
          "base_uri": "https://localhost:8080/"
        },
        "id": "6PSJrmKkGzwc",
        "outputId": "4309beae-622e-4067-e178-5a18e5477b0a"
      },
      "outputs": [
        {
          "output_type": "stream",
          "name": "stdout",
          "text": [
            "+-----+--------------------+------------+----------+-------------------+----+------+------+--------------------+------+-------+-----------------+---------+--------+------+-----------+\n",
            "|label|            features|Diabetes_012|    HighBP|           HighChol| BMI|Smoker|Stroke|HeartDiseaseorAttack|Fruits|Veggies|HvyAlcoholConsump|  GenHlth|PhysHlth|   Sex|        Age|\n",
            "+-----+--------------------+------------+----------+-------------------+----+------+------+--------------------+------+-------+-----------------+---------+--------+------+-----------+\n",
            "|  0.0|(27,[3,4,6,11,12,...| no diabetes|   high BP|   high cholesterol|40.0|   yes|    no|                  no|    no|    yes|              0.0|     poor|    15.0|female|      60-64|\n",
            "|  0.0|(27,[0,1,3,4,8,11...| no diabetes|no high BP|no high cholesterol|25.0|   yes|    no|                  no|    no|     no|              0.0|     good|     0.0|female|      50-54|\n",
            "|  0.0|(27,[2,3,4,5,11,1...| no diabetes|   high BP|   high cholesterol|28.0|    no|    no|                  no|   yes|     no|              0.0|     poor|    30.0|female|      60-64|\n",
            "|  0.0|(27,[1,2,3,4,5,6,...| no diabetes|   high BP|no high cholesterol|27.0|    no|    no|                  no|   yes|    yes|              0.0|very good|     0.0|female|      70-74|\n",
            "|  0.0|(27,[2,3,4,5,6,7,...| no diabetes|   high BP|   high cholesterol|24.0|    no|    no|                  no|   yes|    yes|              0.0|very good|     0.0|female|      70-74|\n",
            "|  0.0|(27,[3,4,5,6,7,13...| no diabetes|   high BP|   high cholesterol|25.0|   yes|    no|                  no|   yes|    yes|              0.0|very good|     2.0|  male|      65-69|\n",
            "|  0.0|(27,[1,3,4,8,11,1...| no diabetes|   high BP|no high cholesterol|30.0|   yes|    no|                  no|    no|     no|              0.0|     good|    14.0|female|      60-64|\n",
            "|  0.0|(27,[3,4,6,8,11,1...| no diabetes|   high BP|   high cholesterol|25.0|   yes|    no|                  no|    no|    yes|              0.0|     good|     0.0|female|      70-74|\n",
            "|  1.0|(27,[3,5,6,11,12,...|    diabetes|   high BP|   high cholesterol|30.0|   yes|    no|                 yes|   yes|    yes|              0.0|     poor|    30.0|female|      60-64|\n",
            "|  0.0|(27,[0,1,2,3,4,6,...| no diabetes|no high BP|no high cholesterol|24.0|    no|    no|                  no|    no|    yes|              0.0|very good|     0.0|  male|      55-59|\n",
            "|  1.0|(27,[0,1,3,4,5,6,...|    diabetes|no high BP|no high cholesterol|25.0|   yes|    no|                  no|   yes|    yes|              0.0|     good|     0.0|  male|80 or older|\n",
            "|  0.0|(27,[3,4,5,6,8,11...| no diabetes|   high BP|   high cholesterol|34.0|   yes|    no|                  no|   yes|    yes|              0.0|     good|    30.0|female|      65-69|\n",
            "|  0.0|(27,[0,1,3,4,6,8,...| no diabetes|no high BP|no high cholesterol|26.0|   yes|    no|                  no|    no|    yes|              0.0|     good|    15.0|female|      50-54|\n",
            "|  1.0|(27,[2,3,4,6,10,1...|    diabetes|   high BP|   high cholesterol|28.0|    no|    no|                  no|    no|    yes|              0.0|     fair|     0.0|female|      70-74|\n",
            "|  0.0|(27,[0,4,6,10,11,...| no diabetes|no high BP|   high cholesterol|33.0|   yes|   yes|                  no|    no|    yes|              0.0|     fair|    28.0|female|      35-39|\n",
            "|  0.0|(27,[1,2,3,4,7,11...| no diabetes|   high BP|no high cholesterol|33.0|    no|    no|                  no|    no|     no|              0.0|very good|     0.0|female|      45-49|\n",
            "|  0.0|(27,[2,3,4,5,6,8,...| no diabetes|   high BP|   high cholesterol|21.0|    no|    no|                  no|   yes|    yes|              0.0|     good|     0.0|female|      65-69|\n",
            "|  1.0|(27,[0,1,3,4,7,15...|    diabetes|no high BP|no high cholesterol|23.0|   yes|    no|                  no|    no|     no|              0.0|very good|     0.0|  male|      50-54|\n",
            "|  0.0|(27,[0,1,2,3,4,6,...| no diabetes|no high BP|no high cholesterol|23.0|    no|    no|                  no|    no|    yes|              0.0|very good|     0.0|female|      25-29|\n",
            "|  0.0|(27,[0,2,3,4,7,21...| no diabetes|no high BP|   high cholesterol|28.0|    no|    no|                  no|    no|     no|              1.0|very good|     0.0|  male|      35-39|\n",
            "+-----+--------------------+------------+----------+-------------------+----+------+------+--------------------+------+-------+-----------------+---------+--------+------+-----------+\n",
            "only showing top 20 rows\n",
            "\n",
            "+---------------------------------------------------------------------------------------------------------------------------------------+\n",
            "|features                                                                                                                               |\n",
            "+---------------------------------------------------------------------------------------------------------------------------------------+\n",
            "|(27,[3,4,6,11,12,24,25,26],[1.0,1.0,1.0,1.0,1.0,1.7579322084283613,-0.24401366406522673,1.2339962735504717])                           |\n",
            "|(27,[0,1,3,4,8,11,15,24,25,26],[1.0,1.0,1.0,1.0,1.0,1.0,1.0,-0.5118051319389338,-0.24401366406522673,-0.4865914507299518])             |\n",
            "|(27,[2,3,4,5,11,12,24,25,26],[1.0,1.0,1.0,1.0,1.0,1.0,-0.057857663865474855,-0.24401366406522673,2.9545839978308956])                  |\n",
            "|(27,[1,2,3,4,5,6,7,11,16,24,25,26],[1.0,1.0,1.0,1.0,1.0,1.0,1.0,1.0,1.0,-0.20917348655662787,-0.24401366406522673,-0.4865914507299518])|\n",
            "|(27,[2,3,4,5,6,7,11,16,24,25,26],[1.0,1.0,1.0,1.0,1.0,1.0,1.0,1.0,-0.6631209546300869,-0.24401366406522673,-0.4865914507299518])       |\n",
            "|(27,[3,4,5,6,7,13,24,25,26],[1.0,1.0,1.0,1.0,1.0,1.0,-0.5118051319389338,-0.24401366406522673,-0.2571797541592286])                    |\n",
            "|(27,[1,3,4,8,11,12,24,25,26],[1.0,1.0,1.0,1.0,1.0,1.0,0.24477398151683116,-0.24401366406522673,1.1192904252651101])                    |\n",
            "|(27,[3,4,6,8,11,16,24,25,26],[1.0,1.0,1.0,1.0,1.0,1.0,-0.5118051319389338,-0.24401366406522673,-0.4865914507299518])                   |\n",
            "|(27,[3,5,6,11,12,24,25,26],[1.0,1.0,1.0,1.0,1.0,0.24477398151683116,-0.24401366406522673,2.9545839978308956])                          |\n",
            "|(27,[0,1,2,3,4,6,7,14,24,25,26],[1.0,1.0,1.0,1.0,1.0,1.0,1.0,1.0,-0.6631209546300869,-0.24401366406522673,-0.4865914507299518])        |\n",
            "|(27,[0,1,3,4,5,6,8,18,24,25,26],[1.0,1.0,1.0,1.0,1.0,1.0,1.0,1.0,-0.5118051319389338,-0.24401366406522673,-0.4865914507299518])        |\n",
            "|(27,[3,4,5,6,8,11,13,24,25,26],[1.0,1.0,1.0,1.0,1.0,1.0,1.0,0.8500372722814432,-0.24401366406522673,2.9545839978308956])               |\n",
            "|(27,[0,1,3,4,6,8,11,15,24,25,26],[1.0,1.0,1.0,1.0,1.0,1.0,1.0,1.0,-0.3604893092477809,-0.24401366406522673,1.2339962735504717])        |\n",
            "|(27,[2,3,4,6,10,11,16,24,25,26],[1.0,1.0,1.0,1.0,1.0,1.0,1.0,-0.057857663865474855,-0.24401366406522673,-0.4865914507299518])          |\n",
            "|(27,[0,4,6,10,11,21,24,25,26],[1.0,1.0,1.0,1.0,1.0,1.0,0.6987214495902903,-0.24401366406522673,2.7251723012601725])                    |\n",
            "|(27,[1,2,3,4,7,11,17,24,25,26],[1.0,1.0,1.0,1.0,1.0,1.0,1.0,0.6987214495902903,-0.24401366406522673,-0.4865914507299518])              |\n",
            "|(27,[2,3,4,5,6,8,11,13,24,25,26],[1.0,1.0,1.0,1.0,1.0,1.0,1.0,1.0,-1.117068422703546,-0.24401366406522673,-0.4865914507299518])        |\n",
            "|(27,[0,1,3,4,7,15,24,25,26],[1.0,1.0,1.0,1.0,1.0,1.0,-0.8144367773212399,-0.24401366406522673,-0.4865914507299518])                    |\n",
            "|(27,[0,1,2,3,4,6,7,11,23,24,25,26],[1.0,1.0,1.0,1.0,1.0,1.0,1.0,1.0,1.0,-0.8144367773212399,-0.24401366406522673,-0.4865914507299518]) |\n",
            "|(27,[0,2,3,4,7,21,24,25,26],[1.0,1.0,1.0,1.0,1.0,1.0,-0.057857663865474855,4.0981150045702055,-0.4865914507299518])                    |\n",
            "+---------------------------------------------------------------------------------------------------------------------------------------+\n",
            "only showing top 20 rows\n",
            "\n"
          ]
        }
      ],
      "source": [
        "selectedcols = [\"label\", \"features\"] + cols\n",
        "dataset = preppedDataDF.select(selectedcols)\n",
        "dataset.show()\n",
        "dataset.select(\"features\").show(truncate=False)"
      ]
    },
    {
      "cell_type": "code",
      "execution_count": 104,
      "metadata": {
        "colab": {
          "base_uri": "https://localhost:8080/"
        },
        "id": "EIM0lfG5G5BW",
        "outputId": "046f25ea-4dd6-4ded-f1af-a0ae66046910"
      },
      "outputs": [
        {
          "output_type": "stream",
          "name": "stdout",
          "text": [
            "177562\n",
            "76118\n"
          ]
        }
      ],
      "source": [
        "#séparation du dataset pour train et test\n",
        "\n",
        "(trainingData, testData) = dataset.randomSplit([0.7, 0.3], seed=42)\n",
        "print(trainingData.count())\n",
        "print(testData.count())\n"
      ]
    },
    {
      "cell_type": "markdown",
      "metadata": {
        "id": "V2x5v5swJ_bB"
      },
      "source": [
        "## Model Evaluation"
      ]
    },
    {
      "cell_type": "code",
      "execution_count": 105,
      "metadata": {
        "colab": {
          "base_uri": "https://localhost:8080/"
        },
        "id": "uXS8a-k0H_2J",
        "outputId": "414d908e-459c-46f5-ed1c-cc284feb8fca"
      },
      "outputs": [
        {
          "output_type": "stream",
          "name": "stdout",
          "text": [
            "Accuracy of LogisticRegression model: 0.8451483223416275\n",
            "Accuracy of DecisionTree model: 0.8448987098977903\n",
            "Accuracy of RandomForest model: 0.840891773299351\n"
          ]
        }
      ],
      "source": [
        "evaluator = MulticlassClassificationEvaluator(labelCol=\"label\", metricName=\"accuracy\")\n",
        "\n",
        "models = {\n",
        "    'LogisticRegression': LogisticRegression(labelCol=\"label\", featuresCol=\"features\"),\n",
        "    'DecisionTree': DecisionTreeClassifier(labelCol=\"label\", featuresCol=\"features\"),\n",
        "    'RandomForest': RandomForestClassifier(labelCol=\"label\", featuresCol=\"features\")\n",
        "}\n",
        "\n",
        "for model_name, model in models.items():\n",
        "    trained_model = model.fit(trainingData)\n",
        "    predictions = trained_model.transform(testData)\n",
        "    accuracy = evaluator.evaluate(predictions)\n",
        "    print(f\"Accuracy of {model_name} model: {accuracy}\")\n"
      ]
    },
    {
      "cell_type": "markdown",
      "metadata": {
        "id": "t1XCaO3MVQqJ"
      },
      "source": [
        "## Parameters Tuning for LR"
      ]
    },
    {
      "cell_type": "code",
      "execution_count": 106,
      "metadata": {
        "id": "0ejpdQ7lVYey",
        "colab": {
          "base_uri": "https://localhost:8080/"
        },
        "outputId": "dd88e321-7c17-4668-b17c-dc7d59285ef6"
      },
      "outputs": [
        {
          "output_type": "execute_result",
          "data": {
            "text/plain": [
              "0.8453059723061562"
            ]
          },
          "metadata": {},
          "execution_count": 106
        }
      ],
      "source": [
        "from pyspark.ml.tuning import ParamGridBuilder, CrossValidator\n",
        "\n",
        "model=LogisticRegression(labelCol=\"label\", featuresCol=\"features\")\n",
        "\n",
        "paramGrid = (ParamGridBuilder()\n",
        "             .addGrid(model.regParam, [0.001, 0.5, 2.0])\n",
        "             .addGrid(model.elasticNetParam, [0.0, 0.5, 1.0])\n",
        "             .addGrid(model.maxIter, [1, 10, 100])\n",
        "             .build())\n",
        "\n",
        "cv = CrossValidator(estimator=model, estimatorParamMaps=paramGrid, evaluator=evaluator, numFolds=5)\n",
        "\n",
        "cvModel = cv.fit(trainingData)\n",
        "\n",
        "predictions = cvModel.transform(testData)\n",
        "\n",
        "# cvModel uses the best model found from the Cross Validation\n",
        "# Evaluate best model\n",
        "evaluator.evaluate(predictions)"
      ]
    },
    {
      "cell_type": "code",
      "execution_count": 107,
      "metadata": {
        "id": "_0FTEmTDFRit",
        "colab": {
          "base_uri": "https://localhost:8080/"
        },
        "outputId": "c51cd087-da13-432d-ac1e-a25e685906ab"
      },
      "outputs": [
        {
          "output_type": "stream",
          "name": "stdout",
          "text": [
            "Best regParam: 0.001\n",
            "Best elasticNetParam: 0.0\n",
            "Best maxIter: 10\n"
          ]
        }
      ],
      "source": [
        "bestModel = cvModel.bestModel\n",
        "bestRegParam = bestModel.getRegParam()\n",
        "bestElasticNetParam = bestModel.getElasticNetParam()\n",
        "bestMaxIter = bestModel.getMaxIter()\n",
        "\n",
        "print(f\"Best regParam: {bestRegParam}\")\n",
        "print(f\"Best elasticNetParam: {bestElasticNetParam}\")\n",
        "print(f\"Best maxIter: {bestMaxIter}\")"
      ]
    },
    {
      "cell_type": "markdown",
      "metadata": {
        "id": "BDiS6wpEJkz2"
      },
      "source": [
        "## Parameters Tuning for DT"
      ]
    },
    {
      "cell_type": "code",
      "execution_count": 108,
      "metadata": {
        "colab": {
          "base_uri": "https://localhost:8080/"
        },
        "id": "ejHtDzopKhN8",
        "outputId": "2bb23ae0-0f43-4299-f459-26d33ba73fc7"
      },
      "outputs": [
        {
          "output_type": "execute_result",
          "data": {
            "text/plain": [
              "0.8448987098977903"
            ]
          },
          "metadata": {},
          "execution_count": 108
        }
      ],
      "source": [
        "from pyspark.ml.tuning import ParamGridBuilder, CrossValidator\n",
        "\n",
        "model=DecisionTreeClassifier(labelCol=\"label\", featuresCol=\"features\")\n",
        "\n",
        "paramGrid = (ParamGridBuilder()\n",
        "             .addGrid(model.maxDepth, [1, 2, 5, 10])\n",
        "             .addGrid(model.maxBins, [10, 40, 80])\n",
        "             .build())\n",
        "\n",
        "cv = CrossValidator(estimator=model, estimatorParamMaps=paramGrid, evaluator=evaluator, numFolds=5)\n",
        "\n",
        "cvModel = cv.fit(trainingData)\n",
        "\n",
        "predictions = cvModel.transform(testData)\n",
        "\n",
        "# cvModel uses the best model found from the Cross Validation\n",
        "# Evaluate best model\n",
        "evaluator.evaluate(predictions)"
      ]
    },
    {
      "cell_type": "code",
      "execution_count": 109,
      "metadata": {
        "id": "PdXPO0ZnLmem",
        "colab": {
          "base_uri": "https://localhost:8080/"
        },
        "outputId": "38b16a39-53cf-408f-cc48-ede3cd43bf54"
      },
      "outputs": [
        {
          "output_type": "stream",
          "name": "stdout",
          "text": [
            "Best maxDepth: 5\n",
            "Best maxBins: 40\n"
          ]
        }
      ],
      "source": [
        "bestModel = cvModel.bestModel\n",
        "bestMaxDepth = bestModel.getMaxDepth()\n",
        "bestMaxBins = bestModel.getMaxBins()\n",
        "\n",
        "print(f\"Best maxDepth: {bestMaxDepth}\")\n",
        "print(f\"Best maxBins: {bestMaxBins}\")\n"
      ]
    },
    {
      "cell_type": "markdown",
      "metadata": {
        "id": "zINoAWvtLpcv"
      },
      "source": [
        "## Parameters Tuning for RF"
      ]
    },
    {
      "cell_type": "code",
      "execution_count": 110,
      "metadata": {
        "id": "OW2DTj84LvE2",
        "colab": {
          "base_uri": "https://localhost:8080/"
        },
        "outputId": "66df3c6b-f4f9-498c-fb38-57687d83f844"
      },
      "outputs": [
        {
          "output_type": "execute_result",
          "data": {
            "text/plain": [
              "0.8410625607609238"
            ]
          },
          "metadata": {},
          "execution_count": 110
        }
      ],
      "source": [
        "from pyspark.ml.tuning import ParamGridBuilder, CrossValidator\n",
        "\n",
        "model=RandomForestClassifier(labelCol=\"label\", featuresCol=\"features\")\n",
        "\n",
        "paramGrid = (ParamGridBuilder()\n",
        "             .addGrid(model.maxDepth, [2, 4, 6])\n",
        "             .addGrid(model.maxBins, [20, 60])\n",
        "             .addGrid(model.numTrees, [5, 20])\n",
        "             .build())\n",
        "\n",
        "cv = CrossValidator(estimator=model, estimatorParamMaps=paramGrid, evaluator=evaluator, numFolds=5)\n",
        "\n",
        "cvModel = cv.fit(trainingData)\n",
        "\n",
        "predictions = cvModel.transform(testData)\n",
        "\n",
        "# cvModel uses the best model found from the Cross Validation\n",
        "# Evaluate best model\n",
        "evaluator.evaluate(predictions)"
      ]
    },
    {
      "cell_type": "code",
      "execution_count": 111,
      "metadata": {
        "id": "cn072m-DOVjO",
        "colab": {
          "base_uri": "https://localhost:8080/"
        },
        "outputId": "a0f146d9-a7eb-4fe7-8262-99322dd85bd4"
      },
      "outputs": [
        {
          "output_type": "stream",
          "name": "stdout",
          "text": [
            "Best maxDepth: 6\n",
            "Best maxBins: 20\n"
          ]
        }
      ],
      "source": [
        "bestModel = cvModel.bestModel\n",
        "bestMaxDepth = bestModel.getMaxDepth()\n",
        "bestMaxBins = bestModel.getMaxBins()\n",
        "\n",
        "print(f\"Best maxDepth: {bestMaxDepth}\")\n",
        "print(f\"Best maxBins: {bestMaxBins}\")\n"
      ]
    },
    {
      "cell_type": "markdown",
      "source": [
        "# Correction after presentation with prof."
      ],
      "metadata": {
        "id": "hwl0YpeVXwOC"
      }
    },
    {
      "cell_type": "markdown",
      "metadata": {
        "id": "BTT984JpnJsf"
      },
      "source": [
        "## LR"
      ]
    },
    {
      "cell_type": "code",
      "execution_count": 112,
      "metadata": {
        "id": "e63QRcfEithG",
        "outputId": "51e656b4-4ea8-4c47-b6d9-0094f45f2564",
        "colab": {
          "base_uri": "https://localhost:8080/"
        }
      },
      "outputs": [
        {
          "output_type": "stream",
          "name": "stdout",
          "text": [
            "Accuracy of LogisticRegression_408944faf77e model: 0.8451483223416275\n",
            "Precision for class 0.0: 0.8594982275837433\n",
            "Precision for class 1.0: 0.532074340527578\n",
            "Precision for class 2.0: 0.0\n"
          ]
        }
      ],
      "source": [
        "evaluator = MulticlassClassificationEvaluator(labelCol=\"label\", metricName=\"accuracy\")\n",
        "\n",
        "model=LogisticRegression(labelCol=\"label\", featuresCol=\"features\")\n",
        "\n",
        "trained_model = model.fit(trainingData)\n",
        "predictions = trained_model.transform(testData)\n",
        "accuracy = evaluator.evaluate(predictions)\n",
        "print(f\"Accuracy of {model} model: {accuracy}\")\n",
        "\n",
        "class_labels = predictions.select(\"label\").distinct().rdd.flatMap(lambda x: x).collect()\n",
        "\n",
        "for label in class_labels:\n",
        "  evaluator.setMetricName(\"precisionByLabel\")\n",
        "  evaluator.setMetricLabel(label)\n",
        "  precision = evaluator.evaluate(predictions)\n",
        "  print(f\"Precision for class {label}: {precision}\")\n"
      ]
    },
    {
      "cell_type": "markdown",
      "metadata": {
        "id": "3EzJbqxZnFQT"
      },
      "source": [
        "## DT"
      ]
    },
    {
      "cell_type": "code",
      "execution_count": 113,
      "metadata": {
        "id": "yVGsNe5Jm9l9",
        "colab": {
          "base_uri": "https://localhost:8080/"
        },
        "outputId": "47b0e9d3-d08d-46b2-e2ba-da9f2e67af68"
      },
      "outputs": [
        {
          "output_type": "stream",
          "name": "stdout",
          "text": [
            "Accuracy of DecisionTreeClassifier_ddf594e658fa model: 0.8448987098977903\n",
            "Precision for class 0.0: 0.8565255912219724\n",
            "Precision for class 1.0: 0.5350526698147475\n",
            "Precision for class 2.0: 0.0\n"
          ]
        }
      ],
      "source": [
        "evaluator = MulticlassClassificationEvaluator(labelCol=\"label\", metricName=\"accuracy\")\n",
        "\n",
        "model=DecisionTreeClassifier(labelCol=\"label\", featuresCol=\"features\")\n",
        "\n",
        "trained_model = model.fit(trainingData)\n",
        "predictions = trained_model.transform(testData)\n",
        "accuracy = evaluator.evaluate(predictions)\n",
        "print(f\"Accuracy of {model} model: {accuracy}\")\n",
        "\n",
        "class_labels = predictions.select(\"label\").distinct().rdd.flatMap(lambda x: x).collect()\n",
        "\n",
        "for label in class_labels:\n",
        "  evaluator.setMetricName(\"precisionByLabel\")\n",
        "  evaluator.setMetricLabel(label)\n",
        "  precision = evaluator.evaluate(predictions)\n",
        "  print(f\"Precision for class {label}: {precision}\")"
      ]
    },
    {
      "cell_type": "markdown",
      "metadata": {
        "id": "ayDJVymJnNH0"
      },
      "source": [
        "## RF"
      ]
    },
    {
      "cell_type": "code",
      "execution_count": 114,
      "metadata": {
        "id": "6YSI_j5gnRX_",
        "colab": {
          "base_uri": "https://localhost:8080/"
        },
        "outputId": "0505b9b8-465f-4b92-94ec-cbd4b20baa6c"
      },
      "outputs": [
        {
          "output_type": "stream",
          "name": "stdout",
          "text": [
            "Accuracy of RandomForestClassifier_525c1bd81364 model: 0.840891773299351\n",
            "Precision for class 0.0: 0.840891773299351\n",
            "Precision for class 1.0: 0.0\n",
            "Precision for class 2.0: 0.0\n"
          ]
        }
      ],
      "source": [
        "evaluator = MulticlassClassificationEvaluator(labelCol=\"label\", metricName=\"accuracy\")\n",
        "\n",
        "model=RandomForestClassifier(labelCol=\"label\", featuresCol=\"features\")\n",
        "\n",
        "trained_model = model.fit(trainingData)\n",
        "predictions = trained_model.transform(testData)\n",
        "accuracy = evaluator.evaluate(predictions)\n",
        "print(f\"Accuracy of {model} model: {accuracy}\")\n",
        "\n",
        "class_labels = predictions.select(\"label\").distinct().rdd.flatMap(lambda x: x).collect()\n",
        "\n",
        "for label in class_labels:\n",
        "  evaluator.setMetricName(\"precisionByLabel\")\n",
        "  evaluator.setMetricLabel(label)\n",
        "  precision = evaluator.evaluate(predictions)\n",
        "  print(f\"Precision for class {label}: {precision}\")"
      ]
    },
    {
      "cell_type": "markdown",
      "metadata": {
        "id": "qsHxqfghwX_4"
      },
      "source": [
        "## Sampling of dominant class (so that it become same size as the second dominant class)"
      ]
    },
    {
      "cell_type": "code",
      "execution_count": 115,
      "metadata": {
        "id": "UvIV0m9StNry",
        "colab": {
          "base_uri": "https://localhost:8080/"
        },
        "outputId": "2d38877f-0c15-494b-8030-7ffbcf392ebe"
      },
      "outputs": [
        {
          "output_type": "stream",
          "name": "stdout",
          "text": [
            "+-----+------+\n",
            "|label| count|\n",
            "+-----+------+\n",
            "|  0.0|149696|\n",
            "|  1.0| 24639|\n",
            "|  2.0|  3227|\n",
            "+-----+------+\n",
            "\n",
            "+-----+-----+\n",
            "|label|count|\n",
            "+-----+-----+\n",
            "|  0.0|24943|\n",
            "|  1.0|24639|\n",
            "|  2.0| 3227|\n",
            "+-----+-----+\n",
            "\n"
          ]
        }
      ],
      "source": [
        "# compter l'occurrence de chaque classe\n",
        "class_counts = trainingData.groupBy(\"label\").count()\n",
        "class_counts.show()\n",
        "\n",
        "# trouver la classe dominante et seconde dominante\n",
        "sorted_counts = class_counts.orderBy(\"count\", ascending=False).collect()\n",
        "\n",
        "# compter la classe seconde dominante\n",
        "second_dominant_count = sorted_counts[1][\"count\"]\n",
        "\n",
        "# obtenir label de la classe dominante\n",
        "dominant_class = sorted_counts[0][\"label\"]\n",
        "dominant_class_count = sorted_counts[0][\"count\"]\n",
        "\n",
        "# échantillonnage de la classe dominante\n",
        "fraction = second_dominant_count / dominant_class_count\n",
        "dominant_class_df = trainingData.filter(trainingData.label == dominant_class).sample(False, fraction, seed=60)\n",
        "\n",
        "other_classes_df = trainingData.filter(trainingData.label != dominant_class)\n",
        "\n",
        "# combiner la classe dominante échantilonnée et les autres classes\n",
        "balanced_training_data = dominant_class_df.union(other_classes_df)\n",
        "balanced_training_data.groupBy(\"label\").count().show()\n"
      ]
    },
    {
      "cell_type": "code",
      "execution_count": 116,
      "metadata": {
        "id": "VwmvG3ZAvJHt",
        "colab": {
          "base_uri": "https://localhost:8080/"
        },
        "outputId": "eb84d8e3-38ef-4dc3-9cb7-b4905b041014"
      },
      "outputs": [
        {
          "output_type": "stream",
          "name": "stdout",
          "text": [
            "Accuracy of LogisticRegression_a2b752889afc model: 0.7212223127249796\n",
            "Precision for class 0.0: 0.9387554036392882\n",
            "Precision for class 1.0: 0.3111473297198954\n",
            "Precision for class 2.0: 0.0\n"
          ]
        }
      ],
      "source": [
        "evaluator = MulticlassClassificationEvaluator(labelCol=\"label\", metricName=\"accuracy\")\n",
        "\n",
        "model=LogisticRegression(labelCol=\"label\", featuresCol=\"features\")\n",
        "\n",
        "trained_model = model.fit(balanced_training_data)\n",
        "predictions = trained_model.transform(testData)\n",
        "accuracy = evaluator.evaluate(predictions)\n",
        "print(f\"Accuracy of {model} model: {accuracy}\")\n",
        "\n",
        "class_labels = predictions.select(\"label\").distinct().rdd.flatMap(lambda x: x).collect()\n",
        "\n",
        "for label in class_labels:\n",
        "  evaluator.setMetricName(\"precisionByLabel\")\n",
        "  evaluator.setMetricLabel(label)\n",
        "  precision = evaluator.evaluate(predictions)\n",
        "  print(f\"Precision for class {label}: {precision}\")\n"
      ]
    },
    {
      "cell_type": "code",
      "execution_count": 117,
      "metadata": {
        "id": "Ti1h_iM2vp5b",
        "colab": {
          "base_uri": "https://localhost:8080/"
        },
        "outputId": "1d2d90c6-a814-4c88-fdbe-445f5cedac39"
      },
      "outputs": [
        {
          "output_type": "stream",
          "name": "stdout",
          "text": [
            "Accuracy of DecisionTreeClassifier_02f456276a42 model: 0.7221025250269318\n",
            "Precision for class 0.0: 0.9266914352757137\n",
            "Precision for class 1.0: 0.3032268396188646\n",
            "Precision for class 2.0: 0.0\n"
          ]
        }
      ],
      "source": [
        "evaluator = MulticlassClassificationEvaluator(labelCol=\"label\", metricName=\"accuracy\")\n",
        "\n",
        "model=DecisionTreeClassifier(labelCol=\"label\", featuresCol=\"features\")\n",
        "\n",
        "trained_model = model.fit(balanced_training_data)\n",
        "predictions = trained_model.transform(testData)\n",
        "accuracy = evaluator.evaluate(predictions)\n",
        "print(f\"Accuracy of {model} model: {accuracy}\")\n",
        "\n",
        "class_labels = predictions.select(\"label\").distinct().rdd.flatMap(lambda x: x).collect()\n",
        "\n",
        "for label in class_labels:\n",
        "  evaluator.setMetricName(\"precisionByLabel\")\n",
        "  evaluator.setMetricLabel(label)\n",
        "  precision = evaluator.evaluate(predictions)\n",
        "  print(f\"Precision for class {label}: {precision}\")"
      ]
    },
    {
      "cell_type": "code",
      "execution_count": 118,
      "metadata": {
        "id": "awMPns_3v-EF",
        "colab": {
          "base_uri": "https://localhost:8080/"
        },
        "outputId": "a7ba1e6b-8cf2-4fa4-a59c-1867a30b66e8"
      },
      "outputs": [
        {
          "output_type": "stream",
          "name": "stdout",
          "text": [
            "Accuracy of RandomForestClassifier_f9ca12b6b224 model: 0.705680653721853\n",
            "Precision for class 0.0: 0.9357943119793163\n",
            "Precision for class 1.0: 0.29615834063686824\n",
            "Precision for class 2.0: 0.0\n"
          ]
        }
      ],
      "source": [
        "evaluator = MulticlassClassificationEvaluator(labelCol=\"label\", metricName=\"accuracy\")\n",
        "\n",
        "model=RandomForestClassifier(labelCol=\"label\", featuresCol=\"features\")\n",
        "\n",
        "trained_model = model.fit(balanced_training_data)\n",
        "predictions = trained_model.transform(testData)\n",
        "accuracy = evaluator.evaluate(predictions)\n",
        "print(f\"Accuracy of {model} model: {accuracy}\")\n",
        "\n",
        "class_labels = predictions.select(\"label\").distinct().rdd.flatMap(lambda x: x).collect()\n",
        "\n",
        "for label in class_labels:\n",
        "  evaluator.setMetricName(\"precisionByLabel\")\n",
        "  evaluator.setMetricLabel(label)\n",
        "  precision = evaluator.evaluate(predictions)\n",
        "  print(f\"Precision for class {label}: {precision}\")"
      ]
    },
    {
      "cell_type": "markdown",
      "metadata": {
        "id": "Yo4f9nK5xtkf"
      },
      "source": [
        "## Sampling of dominant class (so that all classes become same size)"
      ]
    },
    {
      "cell_type": "code",
      "execution_count": 119,
      "metadata": {
        "id": "ZIEHMtXRw2LF",
        "colab": {
          "base_uri": "https://localhost:8080/"
        },
        "outputId": "312dd66c-44a5-49ba-ed7a-a61f985ab7ad"
      },
      "outputs": [
        {
          "output_type": "stream",
          "name": "stdout",
          "text": [
            "+-----+------+\n",
            "|label| count|\n",
            "+-----+------+\n",
            "|  0.0|149696|\n",
            "|  1.0| 24639|\n",
            "|  2.0|  3227|\n",
            "+-----+------+\n",
            "\n",
            "+-----+-----+\n",
            "|label|count|\n",
            "+-----+-----+\n",
            "|  0.0| 3352|\n",
            "|  1.0| 3341|\n",
            "|  2.0| 3227|\n",
            "+-----+-----+\n",
            "\n"
          ]
        }
      ],
      "source": [
        "class_counts = trainingData.groupBy(\"label\").count()\n",
        "class_counts.show()\n",
        "\n",
        "sorted_counts = class_counts.orderBy(\"count\", ascending=False).collect()\n",
        "\n",
        "dominant_class = sorted_counts[0][\"label\"]\n",
        "dominant_class_count = sorted_counts[0][\"count\"]\n",
        "\n",
        "second_dominant_class = sorted_counts[1][\"label\"]\n",
        "second_dominant_class_count = sorted_counts[1][\"count\"]\n",
        "\n",
        "min_count = sorted_counts[-1][\"count\"]\n",
        "\n",
        "dominant_fraction = min_count / dominant_class_count\n",
        "second_dominant_fraction = min_count / second_dominant_class_count\n",
        "\n",
        "dominant_class_df = trainingData.filter(trainingData.label == dominant_class).sample(False, dominant_fraction, seed=42)\n",
        "second_dominant_class_df = trainingData.filter(trainingData.label == second_dominant_class).sample(False, second_dominant_fraction, seed=42)\n",
        "\n",
        "other_classes_df = trainingData.filter((trainingData.label != dominant_class) & (trainingData.label != second_dominant_class))\n",
        "\n",
        "balanced_training_data = dominant_class_df.union(second_dominant_class_df).union(other_classes_df)\n",
        "\n",
        "balanced_training_data.groupBy(\"label\").count().show()\n"
      ]
    },
    {
      "cell_type": "code",
      "execution_count": 120,
      "metadata": {
        "id": "pYCn84JDx5Pn",
        "colab": {
          "base_uri": "https://localhost:8080/"
        },
        "outputId": "9b3be313-0b1c-4635-cc9c-0770b48439de"
      },
      "outputs": [
        {
          "output_type": "stream",
          "name": "stdout",
          "text": [
            "Accuracy of LogisticRegression_375c2c328860 model: 0.645997004650674\n",
            "Precision for class 0.0: 0.9485272641488238\n",
            "Precision for class 1.0: 0.35245945511962745\n",
            "Precision for class 2.0: 0.028547114343184278\n"
          ]
        }
      ],
      "source": [
        "evaluator = MulticlassClassificationEvaluator(labelCol=\"label\", metricName=\"accuracy\")\n",
        "\n",
        "model=LogisticRegression(labelCol=\"label\", featuresCol=\"features\")\n",
        "\n",
        "trained_model = model.fit(balanced_training_data)\n",
        "predictions = trained_model.transform(testData)\n",
        "accuracy = evaluator.evaluate(predictions)\n",
        "print(f\"Accuracy of {model} model: {accuracy}\")\n",
        "\n",
        "class_labels = predictions.select(\"label\").distinct().rdd.flatMap(lambda x: x).collect()\n",
        "\n",
        "for label in class_labels:\n",
        "  evaluator.setMetricName(\"precisionByLabel\")\n",
        "  evaluator.setMetricLabel(label)\n",
        "  precision = evaluator.evaluate(predictions)\n",
        "  print(f\"Precision for class {label}: {precision}\")"
      ]
    },
    {
      "cell_type": "code",
      "execution_count": 121,
      "metadata": {
        "id": "_f4loKBQx9lW",
        "colab": {
          "base_uri": "https://localhost:8080/"
        },
        "outputId": "dcfae4b3-2b35-4dc1-cc99-d890e2f24452"
      },
      "outputs": [
        {
          "output_type": "stream",
          "name": "stdout",
          "text": [
            "Accuracy of DecisionTreeClassifier_d21865dbd4b6 model: 0.6152946740586983\n",
            "Precision for class 0.0: 0.9421470096735473\n",
            "Precision for class 1.0: 0.34081643458463495\n",
            "Precision for class 2.0: 0.025027129679869777\n"
          ]
        }
      ],
      "source": [
        "evaluator = MulticlassClassificationEvaluator(labelCol=\"label\", metricName=\"accuracy\")\n",
        "\n",
        "model=DecisionTreeClassifier(labelCol=\"label\", featuresCol=\"features\")\n",
        "\n",
        "trained_model = model.fit(balanced_training_data)\n",
        "predictions = trained_model.transform(testData)\n",
        "accuracy = evaluator.evaluate(predictions)\n",
        "print(f\"Accuracy of {model} model: {accuracy}\")\n",
        "\n",
        "class_labels = predictions.select(\"label\").distinct().rdd.flatMap(lambda x: x).collect()\n",
        "\n",
        "for label in class_labels:\n",
        "  evaluator.setMetricName(\"precisionByLabel\")\n",
        "  evaluator.setMetricLabel(label)\n",
        "  precision = evaluator.evaluate(predictions)\n",
        "  print(f\"Precision for class {label}: {precision}\")"
      ]
    },
    {
      "cell_type": "code",
      "execution_count": 122,
      "metadata": {
        "id": "1awJHAgUyCTb",
        "colab": {
          "base_uri": "https://localhost:8080/"
        },
        "outputId": "e117ffdb-d50c-477e-dcfa-1b1d4a51c7b4"
      },
      "outputs": [
        {
          "output_type": "stream",
          "name": "stdout",
          "text": [
            "Accuracy of RandomForestClassifier_02c74e30d853 model: 0.6610919887543025\n",
            "Precision for class 0.0: 0.9412679294864776\n",
            "Precision for class 1.0: 0.31852883060894555\n",
            "Precision for class 2.0: 0.029932803909590716\n"
          ]
        }
      ],
      "source": [
        "evaluator = MulticlassClassificationEvaluator(labelCol=\"label\", metricName=\"accuracy\")\n",
        "\n",
        "model=RandomForestClassifier(labelCol=\"label\", featuresCol=\"features\")\n",
        "\n",
        "trained_model = model.fit(balanced_training_data)\n",
        "predictions = trained_model.transform(testData)\n",
        "accuracy = evaluator.evaluate(predictions)\n",
        "print(f\"Accuracy of {model} model: {accuracy}\")\n",
        "\n",
        "class_labels = predictions.select(\"label\").distinct().rdd.flatMap(lambda x: x).collect()\n",
        "\n",
        "for label in class_labels:\n",
        "  evaluator.setMetricName(\"precisionByLabel\")\n",
        "  evaluator.setMetricLabel(label)\n",
        "  precision = evaluator.evaluate(predictions)\n",
        "  print(f\"Precision for class {label}: {precision}\")"
      ]
    },
    {
      "cell_type": "markdown",
      "metadata": {
        "id": "uMOxkwuMzTtr"
      },
      "source": [
        "### We can observe that with equally distributed classes, the random forest method has the highest accuracy although the accuracy for second and least dominant classes remain low (non zero)."
      ]
    }
  ],
  "metadata": {
    "colab": {
      "provenance": []
    },
    "kernelspec": {
      "display_name": "Python 3",
      "name": "python3"
    },
    "language_info": {
      "name": "python"
    }
  },
  "nbformat": 4,
  "nbformat_minor": 0
}